{
 "cells": [
  {
   "cell_type": "code",
   "execution_count": null,
   "metadata": {
    "collapsed": false,
    "jupyter": {
     "outputs_hidden": false
    }
   },
   "outputs": [],
   "source": [
    "%load_ext autoreload\n",
    "%autoreload 2\n",
    "%matplotlib inline\n",
    "\n",
    "from sklearn.datasets import make_regression\n",
    "import matplotlib.pyplot as plt\n",
    "import pandas as pd\n",
    "\n",
    "from tobit import *"
   ]
  },
  {
   "cell_type": "markdown",
   "metadata": {},
   "source": [
    "# Recovers true coefficients on artificial censored regression data"
   ]
  },
  {
   "cell_type": "code",
   "execution_count": null,
   "metadata": {
    "collapsed": false,
    "jupyter": {
     "outputs_hidden": false
    }
   },
   "outputs": [],
   "source": [
    "rs = np.random.RandomState(seed=10)\n",
    "ns = 100\n",
    "nf = 10\n",
    "x, y_orig, coef = make_regression(n_samples=ns, n_features=nf, coef=True, noise=0.0, random_state=rs)\n",
    "x = pd.DataFrame(x, columns=[f'feature_{i}' for i in range(1, nf+1)])\n",
    "y = pd.Series(y_orig)"
   ]
  },
  {
   "cell_type": "code",
   "execution_count": null,
   "metadata": {
    "collapsed": false,
    "jupyter": {
     "outputs_hidden": false
    }
   },
   "outputs": [],
   "source": [
    "n_quantiles = 3 # two-thirds of the data is truncated\n",
    "quantile = 100/float(n_quantiles)\n",
    "lower = np.percentile(y, quantile)\n",
    "upper = np.percentile(y, (n_quantiles - 1) * quantile)\n",
    "left = y < lower\n",
    "right = y > upper\n",
    "cens = pd.Series(np.zeros((ns,)))\n",
    "cens[left] = -1\n",
    "cens[right] = 1\n",
    "y = y.clip(upper=upper, lower=lower)\n",
    "hist = plt.hist(y)"
   ]
  },
  {
   "cell_type": "code",
   "execution_count": null,
   "metadata": {
    "collapsed": false,
    "jupyter": {
     "outputs_hidden": false
    }
   },
   "outputs": [],
   "source": [
    "tr = TobitModel()\n",
    "result = tr.fit(x, y, cens, verbose=False)"
   ]
  },
  {
   "cell_type": "code",
   "execution_count": null,
   "metadata": {
    "collapsed": false,
    "jupyter": {
     "outputs_hidden": false
    }
   },
   "outputs": [],
   "source": [
    "fig, ax = plt.subplots()\n",
    "ind = np.arange(len(coef))\n",
    "width = 0.25\n",
    "rects1 = ax.bar(ind, coef, width, color='g', label='True')\n",
    "rects2 = ax.bar(ind + width, tr.coef_, width, color='r', label='Tobit')\n",
    "rects3 = ax.bar(ind + (2 * width), tr.ols_coef_, width, color='b', label='OLS')\n",
    "plt.ylabel(\"Coefficient\")\n",
    "plt.xlabel(\"Index of regressor\")\n",
    "plt.title(\"Tobit vs. OLS on censored data\")\n",
    "leg = plt.legend(loc=(0.22, 0.65))"
   ]
  },
  {
   "cell_type": "markdown",
   "metadata": {},
   "source": [
    "Note that the truncation values do not have to be the same for e.g. all left-censored observations, or all right-censored observations, as in this example. However, the model does assume that the errors will be normally-distributed."
   ]
  },
  {
   "cell_type": "markdown",
   "metadata": {},
   "source": [
    "# Comparison to R censReg package result on AER data"
   ]
  },
  {
   "cell_type": "markdown",
   "metadata": {
    "collapsed": false,
    "jupyter": {
     "outputs_hidden": false
    }
   },
   "source": [
    "## Commands in R for Tobit analysis of Affairs data:\n",
    "```\n",
    "install.packages('censReg')\n",
    "library(censReg)\n",
    "install.packages('AER')\n",
    "data('Affairs', package='AER')\n",
    "write.table(Affairs, 'tobit_data.txt', quote=FALSE, row.names=FALSE)\n",
    "estResult <- censReg( affairs ~ age + yearsmarried + religiousness +occupation + rating, data = Affairs)\n",
    "summary(estResult)\n",
    "```"
   ]
  },
  {
   "cell_type": "markdown",
   "metadata": {},
   "source": [
    "## Python analysis of same data"
   ]
  },
  {
   "cell_type": "code",
   "execution_count": null,
   "metadata": {
    "collapsed": false,
    "jupyter": {
     "outputs_hidden": false
    }
   },
   "outputs": [],
   "source": [
    "data_file = 'tobit_data.txt'\n",
    "df = pd.read_table(data_file, sep=' ')\n",
    "df.loc[df.gender=='male', 'gender'] = 1\n",
    "df.loc[df.gender=='female', 'gender'] = 0\n",
    "df.loc[df.children=='yes', 'children'] = 1\n",
    "df.loc[df.children=='no', 'children'] = 0\n",
    "df = df.astype(float)\n",
    "df.head()"
   ]
  },
  {
   "cell_type": "code",
   "execution_count": null,
   "metadata": {
    "collapsed": false,
    "jupyter": {
     "outputs_hidden": false
    }
   },
   "outputs": [],
   "source": [
    "y = df.affairs\n",
    "x = df.drop(['affairs', 'gender', 'education', 'children'], axis=1)\n",
    "cens = pd.Series(np.zeros((len(y),)))\n",
    "cens[y==0] = -1\n",
    "cens.value_counts()"
   ]
  },
  {
   "cell_type": "code",
   "execution_count": null,
   "metadata": {
    "collapsed": false,
    "jupyter": {
     "outputs_hidden": false
    }
   },
   "outputs": [],
   "source": [
    "tr = TobitModel()\n",
    "tr = tr.fit(x, y, cens, verbose=False)"
   ]
  },
  {
   "cell_type": "code",
   "execution_count": null,
   "metadata": {
    "collapsed": false,
    "jupyter": {
     "outputs_hidden": false
    }
   },
   "outputs": [],
   "source": [
    "tr.coef_"
   ]
  },
  {
   "cell_type": "markdown",
   "metadata": {},
   "source": [
    "Note that the coefficients are identical to those obtained in the R analysis."
   ]
  }
 ],
 "metadata": {
  "kernelspec": {
   "display_name": "Python 3 (ipykernel)",
   "language": "python",
   "name": "python3"
  },
  "language_info": {
   "codemirror_mode": {
    "name": "ipython",
    "version": 3
   },
   "file_extension": ".py",
   "mimetype": "text/x-python",
   "name": "python",
   "nbconvert_exporter": "python",
   "pygments_lexer": "ipython3",
   "version": "3.12.0"
  }
 },
 "nbformat": 4,
 "nbformat_minor": 4
}
